{
 "cells": [
  {
   "cell_type": "code",
   "execution_count": 20,
   "metadata": {},
   "outputs": [],
   "source": [
    "import json\n",
    "import random\n",
    "from rich import print"
   ]
  },
  {
   "cell_type": "code",
   "execution_count": 3,
   "metadata": {},
   "outputs": [],
   "source": [
    "with open('result.json', mode = 'r') as handler:\n",
    "    data  = json.load(handler)"
   ]
  },
  {
   "cell_type": "code",
   "execution_count": null,
   "metadata": {},
   "outputs": [],
   "source": [
    "for page in  data.get('results', []):\n",
    "    title = page['properties'].get('Name', {}).get('title', [{}])[0].get('plain_text', 'No Title')\n",
    "    print(title)\n",
    "# print(data)"
   ]
  },
  {
   "cell_type": "code",
   "execution_count": 21,
   "metadata": {},
   "outputs": [
    {
     "data": {
      "text/html": [
       "<pre style=\"white-space:pre;overflow-x:auto;line-height:normal;font-family:Menlo,'DejaVu Sans Mono',consolas,'Courier New',monospace\"><span style=\"font-weight: bold\">{</span>\n",
       "    <span style=\"color: #008000; text-decoration-color: #008000\">'archived'</span>: <span style=\"color: #ff0000; text-decoration-color: #ff0000; font-style: italic\">False</span>,\n",
       "    <span style=\"color: #008000; text-decoration-color: #008000\">'cover'</span>: <span style=\"color: #800080; text-decoration-color: #800080; font-style: italic\">None</span>,\n",
       "    <span style=\"color: #008000; text-decoration-color: #008000\">'created_by'</span>: <span style=\"font-weight: bold\">{</span><span style=\"color: #008000; text-decoration-color: #008000\">'id'</span>: <span style=\"color: #008000; text-decoration-color: #008000\">'f9011d4d-d0e1-4309-8d06-f117108f28c6'</span>, <span style=\"color: #008000; text-decoration-color: #008000\">'object'</span>: <span style=\"color: #008000; text-decoration-color: #008000\">'user'</span><span style=\"font-weight: bold\">}</span>,\n",
       "    <span style=\"color: #008000; text-decoration-color: #008000\">'created_time'</span>: <span style=\"color: #008000; text-decoration-color: #008000\">'2024-06-29T01:15:00.000Z'</span>,\n",
       "    <span style=\"color: #008000; text-decoration-color: #008000\">'icon'</span>: <span style=\"font-weight: bold\">{</span><span style=\"color: #008000; text-decoration-color: #008000\">'emoji'</span>: <span style=\"color: #008000; text-decoration-color: #008000\">'🏕️'</span>, <span style=\"color: #008000; text-decoration-color: #008000\">'type'</span>: <span style=\"color: #008000; text-decoration-color: #008000\">'emoji'</span><span style=\"font-weight: bold\">}</span>,\n",
       "    <span style=\"color: #008000; text-decoration-color: #008000\">'id'</span>: <span style=\"color: #008000; text-decoration-color: #008000\">'40c7c416-d9a0-405b-b585-8cf297ca0603'</span>,\n",
       "    <span style=\"color: #008000; text-decoration-color: #008000\">'in_trash'</span>: <span style=\"color: #ff0000; text-decoration-color: #ff0000; font-style: italic\">False</span>,\n",
       "    <span style=\"color: #008000; text-decoration-color: #008000\">'last_edited_by'</span>: <span style=\"font-weight: bold\">{</span><span style=\"color: #008000; text-decoration-color: #008000\">'id'</span>: <span style=\"color: #008000; text-decoration-color: #008000\">'f9011d4d-d0e1-4309-8d06-f117108f28c6'</span>, <span style=\"color: #008000; text-decoration-color: #008000\">'object'</span>: <span style=\"color: #008000; text-decoration-color: #008000\">'user'</span><span style=\"font-weight: bold\">}</span>,\n",
       "    <span style=\"color: #008000; text-decoration-color: #008000\">'last_edited_time'</span>: <span style=\"color: #008000; text-decoration-color: #008000\">'2024-08-31T11:29:00.000Z'</span>,\n",
       "    <span style=\"color: #008000; text-decoration-color: #008000\">'object'</span>: <span style=\"color: #008000; text-decoration-color: #008000\">'page'</span>,\n",
       "    <span style=\"color: #008000; text-decoration-color: #008000\">'parent'</span>: <span style=\"font-weight: bold\">{</span><span style=\"color: #008000; text-decoration-color: #008000\">'database_id'</span>: <span style=\"color: #008000; text-decoration-color: #008000\">'e1463d2e-7f99-4dcd-8652-6a6888021fe8'</span>, <span style=\"color: #008000; text-decoration-color: #008000\">'type'</span>: <span style=\"color: #008000; text-decoration-color: #008000\">'database_id'</span><span style=\"font-weight: bold\">}</span>,\n",
       "    <span style=\"color: #008000; text-decoration-color: #008000\">'properties'</span>: <span style=\"font-weight: bold\">{</span>\n",
       "        <span style=\"color: #008000; text-decoration-color: #008000\">'Name'</span>: <span style=\"font-weight: bold\">{</span>\n",
       "            <span style=\"color: #008000; text-decoration-color: #008000\">'id'</span>: <span style=\"color: #008000; text-decoration-color: #008000\">'title'</span>,\n",
       "            <span style=\"color: #008000; text-decoration-color: #008000\">'title'</span>: <span style=\"font-weight: bold\">[</span>\n",
       "                <span style=\"font-weight: bold\">{</span>\n",
       "                    <span style=\"color: #008000; text-decoration-color: #008000\">'annotations'</span>: <span style=\"font-weight: bold\">{</span>\n",
       "                        <span style=\"color: #008000; text-decoration-color: #008000\">'bold'</span>: <span style=\"color: #00ff00; text-decoration-color: #00ff00; font-style: italic\">True</span>,\n",
       "                        <span style=\"color: #008000; text-decoration-color: #008000\">'code'</span>: <span style=\"color: #ff0000; text-decoration-color: #ff0000; font-style: italic\">False</span>,\n",
       "                        <span style=\"color: #008000; text-decoration-color: #008000\">'color'</span>: <span style=\"color: #008000; text-decoration-color: #008000\">'default'</span>,\n",
       "                        <span style=\"color: #008000; text-decoration-color: #008000\">'italic'</span>: <span style=\"color: #ff0000; text-decoration-color: #ff0000; font-style: italic\">False</span>,\n",
       "                        <span style=\"color: #008000; text-decoration-color: #008000\">'strikethrough'</span>: <span style=\"color: #ff0000; text-decoration-color: #ff0000; font-style: italic\">False</span>,\n",
       "                        <span style=\"color: #008000; text-decoration-color: #008000\">'underline'</span>: <span style=\"color: #ff0000; text-decoration-color: #ff0000; font-style: italic\">False</span>\n",
       "                    <span style=\"font-weight: bold\">}</span>,\n",
       "                    <span style=\"color: #008000; text-decoration-color: #008000\">'href'</span>: <span style=\"color: #800080; text-decoration-color: #800080; font-style: italic\">None</span>,\n",
       "                    <span style=\"color: #008000; text-decoration-color: #008000\">'plain_text'</span>: <span style=\"color: #008000; text-decoration-color: #008000\">'Tomismo'</span>,\n",
       "                    <span style=\"color: #008000; text-decoration-color: #008000\">'text'</span>: <span style=\"font-weight: bold\">{</span><span style=\"color: #008000; text-decoration-color: #008000\">'content'</span>: <span style=\"color: #008000; text-decoration-color: #008000\">'Tomismo'</span>, <span style=\"color: #008000; text-decoration-color: #008000\">'link'</span>: <span style=\"color: #800080; text-decoration-color: #800080; font-style: italic\">None</span><span style=\"font-weight: bold\">}</span>,\n",
       "                    <span style=\"color: #008000; text-decoration-color: #008000\">'type'</span>: <span style=\"color: #008000; text-decoration-color: #008000\">'text'</span>\n",
       "                <span style=\"font-weight: bold\">}</span>\n",
       "            <span style=\"font-weight: bold\">]</span>,\n",
       "            <span style=\"color: #008000; text-decoration-color: #008000\">'type'</span>: <span style=\"color: #008000; text-decoration-color: #008000\">'title'</span>\n",
       "        <span style=\"font-weight: bold\">}</span>,\n",
       "        <span style=\"color: #008000; text-decoration-color: #008000\">'Parent item'</span>: <span style=\"font-weight: bold\">{</span>\n",
       "            <span style=\"color: #008000; text-decoration-color: #008000\">'has_more'</span>: <span style=\"color: #ff0000; text-decoration-color: #ff0000; font-style: italic\">False</span>,\n",
       "            <span style=\"color: #008000; text-decoration-color: #008000\">'id'</span>: <span style=\"color: #008000; text-decoration-color: #008000\">'%7Bw%3F%7C'</span>,\n",
       "            <span style=\"color: #008000; text-decoration-color: #008000\">'relation'</span>: <span style=\"font-weight: bold\">[{</span><span style=\"color: #008000; text-decoration-color: #008000\">'id'</span>: <span style=\"color: #008000; text-decoration-color: #008000\">'81d4c146-dad3-40cf-a0c2-1427b596ffef'</span><span style=\"font-weight: bold\">}]</span>,\n",
       "            <span style=\"color: #008000; text-decoration-color: #008000\">'type'</span>: <span style=\"color: #008000; text-decoration-color: #008000\">'relation'</span>\n",
       "        <span style=\"font-weight: bold\">}</span>,\n",
       "        <span style=\"color: #008000; text-decoration-color: #008000\">'Sub-item'</span>: <span style=\"font-weight: bold\">{</span><span style=\"color: #008000; text-decoration-color: #008000\">'has_more'</span>: <span style=\"color: #ff0000; text-decoration-color: #ff0000; font-style: italic\">False</span>, <span style=\"color: #008000; text-decoration-color: #008000\">'id'</span>: <span style=\"color: #008000; text-decoration-color: #008000\">'%3ETgo'</span>, <span style=\"color: #008000; text-decoration-color: #008000\">'relation'</span>: <span style=\"font-weight: bold\">[]</span>, <span style=\"color: #008000; text-decoration-color: #008000\">'type'</span>: <span style=\"color: #008000; text-decoration-color: #008000\">'relation'</span><span style=\"font-weight: bold\">}</span>,\n",
       "        <span style=\"color: #008000; text-decoration-color: #008000\">'Tags'</span>: <span style=\"font-weight: bold\">{</span>\n",
       "            <span style=\"color: #008000; text-decoration-color: #008000\">'id'</span>: <span style=\"color: #008000; text-decoration-color: #008000\">'CT%5C%3A'</span>,\n",
       "            <span style=\"color: #008000; text-decoration-color: #008000\">'multi_select'</span>: <span style=\"font-weight: bold\">[</span>\n",
       "                <span style=\"font-weight: bold\">{</span><span style=\"color: #008000; text-decoration-color: #008000\">'color'</span>: <span style=\"color: #008000; text-decoration-color: #008000\">'blue'</span>, <span style=\"color: #008000; text-decoration-color: #008000\">'id'</span>: <span style=\"color: #008000; text-decoration-color: #008000\">'f37b3eea-a1f0-49ac-b3e5-23de7ac23e3b'</span>, <span style=\"color: #008000; text-decoration-color: #008000\">'name'</span>: <span style=\"color: #008000; text-decoration-color: #008000\">'Filosofia'</span><span style=\"font-weight: bold\">}</span>,\n",
       "                <span style=\"font-weight: bold\">{</span><span style=\"color: #008000; text-decoration-color: #008000\">'color'</span>: <span style=\"color: #008000; text-decoration-color: #008000\">'gray'</span>, <span style=\"color: #008000; text-decoration-color: #008000\">'id'</span>: <span style=\"color: #008000; text-decoration-color: #008000\">'4cd92c76-b26b-475b-817f-4771dd1949db'</span>, <span style=\"color: #008000; text-decoration-color: #008000\">'name'</span>: <span style=\"color: #008000; text-decoration-color: #008000\">'Escuela'</span><span style=\"font-weight: bold\">}</span>\n",
       "            <span style=\"font-weight: bold\">]</span>,\n",
       "            <span style=\"color: #008000; text-decoration-color: #008000\">'type'</span>: <span style=\"color: #008000; text-decoration-color: #008000\">'multi_select'</span>\n",
       "        <span style=\"font-weight: bold\">}</span>\n",
       "    <span style=\"font-weight: bold\">}</span>,\n",
       "    <span style=\"color: #008000; text-decoration-color: #008000\">'public_url'</span>: <span style=\"color: #800080; text-decoration-color: #800080; font-style: italic\">None</span>,\n",
       "    <span style=\"color: #008000; text-decoration-color: #008000\">'url'</span>: <span style=\"color: #008000; text-decoration-color: #008000\">'https://www.notion.so/Tomismo-40c7c416d9a0405bb5858cf297ca0603'</span>\n",
       "<span style=\"font-weight: bold\">}</span>\n",
       "</pre>\n"
      ],
      "text/plain": [
       "\u001b[1m{\u001b[0m\n",
       "    \u001b[32m'archived'\u001b[0m: \u001b[3;91mFalse\u001b[0m,\n",
       "    \u001b[32m'cover'\u001b[0m: \u001b[3;35mNone\u001b[0m,\n",
       "    \u001b[32m'created_by'\u001b[0m: \u001b[1m{\u001b[0m\u001b[32m'id'\u001b[0m: \u001b[32m'f9011d4d-d0e1-4309-8d06-f117108f28c6'\u001b[0m, \u001b[32m'object'\u001b[0m: \u001b[32m'user'\u001b[0m\u001b[1m}\u001b[0m,\n",
       "    \u001b[32m'created_time'\u001b[0m: \u001b[32m'2024-06-29T01:15:00.000Z'\u001b[0m,\n",
       "    \u001b[32m'icon'\u001b[0m: \u001b[1m{\u001b[0m\u001b[32m'emoji'\u001b[0m: \u001b[32m'🏕️'\u001b[0m, \u001b[32m'type'\u001b[0m: \u001b[32m'emoji'\u001b[0m\u001b[1m}\u001b[0m,\n",
       "    \u001b[32m'id'\u001b[0m: \u001b[32m'40c7c416-d9a0-405b-b585-8cf297ca0603'\u001b[0m,\n",
       "    \u001b[32m'in_trash'\u001b[0m: \u001b[3;91mFalse\u001b[0m,\n",
       "    \u001b[32m'last_edited_by'\u001b[0m: \u001b[1m{\u001b[0m\u001b[32m'id'\u001b[0m: \u001b[32m'f9011d4d-d0e1-4309-8d06-f117108f28c6'\u001b[0m, \u001b[32m'object'\u001b[0m: \u001b[32m'user'\u001b[0m\u001b[1m}\u001b[0m,\n",
       "    \u001b[32m'last_edited_time'\u001b[0m: \u001b[32m'2024-08-31T11:29:00.000Z'\u001b[0m,\n",
       "    \u001b[32m'object'\u001b[0m: \u001b[32m'page'\u001b[0m,\n",
       "    \u001b[32m'parent'\u001b[0m: \u001b[1m{\u001b[0m\u001b[32m'database_id'\u001b[0m: \u001b[32m'e1463d2e-7f99-4dcd-8652-6a6888021fe8'\u001b[0m, \u001b[32m'type'\u001b[0m: \u001b[32m'database_id'\u001b[0m\u001b[1m}\u001b[0m,\n",
       "    \u001b[32m'properties'\u001b[0m: \u001b[1m{\u001b[0m\n",
       "        \u001b[32m'Name'\u001b[0m: \u001b[1m{\u001b[0m\n",
       "            \u001b[32m'id'\u001b[0m: \u001b[32m'title'\u001b[0m,\n",
       "            \u001b[32m'title'\u001b[0m: \u001b[1m[\u001b[0m\n",
       "                \u001b[1m{\u001b[0m\n",
       "                    \u001b[32m'annotations'\u001b[0m: \u001b[1m{\u001b[0m\n",
       "                        \u001b[32m'bold'\u001b[0m: \u001b[3;92mTrue\u001b[0m,\n",
       "                        \u001b[32m'code'\u001b[0m: \u001b[3;91mFalse\u001b[0m,\n",
       "                        \u001b[32m'color'\u001b[0m: \u001b[32m'default'\u001b[0m,\n",
       "                        \u001b[32m'italic'\u001b[0m: \u001b[3;91mFalse\u001b[0m,\n",
       "                        \u001b[32m'strikethrough'\u001b[0m: \u001b[3;91mFalse\u001b[0m,\n",
       "                        \u001b[32m'underline'\u001b[0m: \u001b[3;91mFalse\u001b[0m\n",
       "                    \u001b[1m}\u001b[0m,\n",
       "                    \u001b[32m'href'\u001b[0m: \u001b[3;35mNone\u001b[0m,\n",
       "                    \u001b[32m'plain_text'\u001b[0m: \u001b[32m'Tomismo'\u001b[0m,\n",
       "                    \u001b[32m'text'\u001b[0m: \u001b[1m{\u001b[0m\u001b[32m'content'\u001b[0m: \u001b[32m'Tomismo'\u001b[0m, \u001b[32m'link'\u001b[0m: \u001b[3;35mNone\u001b[0m\u001b[1m}\u001b[0m,\n",
       "                    \u001b[32m'type'\u001b[0m: \u001b[32m'text'\u001b[0m\n",
       "                \u001b[1m}\u001b[0m\n",
       "            \u001b[1m]\u001b[0m,\n",
       "            \u001b[32m'type'\u001b[0m: \u001b[32m'title'\u001b[0m\n",
       "        \u001b[1m}\u001b[0m,\n",
       "        \u001b[32m'Parent item'\u001b[0m: \u001b[1m{\u001b[0m\n",
       "            \u001b[32m'has_more'\u001b[0m: \u001b[3;91mFalse\u001b[0m,\n",
       "            \u001b[32m'id'\u001b[0m: \u001b[32m'%7Bw%3F%7C'\u001b[0m,\n",
       "            \u001b[32m'relation'\u001b[0m: \u001b[1m[\u001b[0m\u001b[1m{\u001b[0m\u001b[32m'id'\u001b[0m: \u001b[32m'81d4c146-dad3-40cf-a0c2-1427b596ffef'\u001b[0m\u001b[1m}\u001b[0m\u001b[1m]\u001b[0m,\n",
       "            \u001b[32m'type'\u001b[0m: \u001b[32m'relation'\u001b[0m\n",
       "        \u001b[1m}\u001b[0m,\n",
       "        \u001b[32m'Sub-item'\u001b[0m: \u001b[1m{\u001b[0m\u001b[32m'has_more'\u001b[0m: \u001b[3;91mFalse\u001b[0m, \u001b[32m'id'\u001b[0m: \u001b[32m'%3ETgo'\u001b[0m, \u001b[32m'relation'\u001b[0m: \u001b[1m[\u001b[0m\u001b[1m]\u001b[0m, \u001b[32m'type'\u001b[0m: \u001b[32m'relation'\u001b[0m\u001b[1m}\u001b[0m,\n",
       "        \u001b[32m'Tags'\u001b[0m: \u001b[1m{\u001b[0m\n",
       "            \u001b[32m'id'\u001b[0m: \u001b[32m'CT%5C%3A'\u001b[0m,\n",
       "            \u001b[32m'multi_select'\u001b[0m: \u001b[1m[\u001b[0m\n",
       "                \u001b[1m{\u001b[0m\u001b[32m'color'\u001b[0m: \u001b[32m'blue'\u001b[0m, \u001b[32m'id'\u001b[0m: \u001b[32m'f37b3eea-a1f0-49ac-b3e5-23de7ac23e3b'\u001b[0m, \u001b[32m'name'\u001b[0m: \u001b[32m'Filosofia'\u001b[0m\u001b[1m}\u001b[0m,\n",
       "                \u001b[1m{\u001b[0m\u001b[32m'color'\u001b[0m: \u001b[32m'gray'\u001b[0m, \u001b[32m'id'\u001b[0m: \u001b[32m'4cd92c76-b26b-475b-817f-4771dd1949db'\u001b[0m, \u001b[32m'name'\u001b[0m: \u001b[32m'Escuela'\u001b[0m\u001b[1m}\u001b[0m\n",
       "            \u001b[1m]\u001b[0m,\n",
       "            \u001b[32m'type'\u001b[0m: \u001b[32m'multi_select'\u001b[0m\n",
       "        \u001b[1m}\u001b[0m\n",
       "    \u001b[1m}\u001b[0m,\n",
       "    \u001b[32m'public_url'\u001b[0m: \u001b[3;35mNone\u001b[0m,\n",
       "    \u001b[32m'url'\u001b[0m: \u001b[32m'https://www.notion.so/Tomismo-40c7c416d9a0405bb5858cf297ca0603'\u001b[0m\n",
       "\u001b[1m}\u001b[0m\n"
      ]
     },
     "metadata": {},
     "output_type": "display_data"
    }
   ],
   "source": [
    "idx  = random.choice(range(0, len(data.get('results', []) ) + 1))\n",
    "page  = data.get('results', [])[idx]\n",
    "print(page)"
   ]
  }
 ],
 "metadata": {
  "kernelspec": {
   "display_name": "Python 3",
   "language": "python",
   "name": "python3"
  },
  "language_info": {
   "codemirror_mode": {
    "name": "ipython",
    "version": 3
   },
   "file_extension": ".py",
   "mimetype": "text/x-python",
   "name": "python",
   "nbconvert_exporter": "python",
   "pygments_lexer": "ipython3",
   "version": "3.10.12"
  }
 },
 "nbformat": 4,
 "nbformat_minor": 2
}
